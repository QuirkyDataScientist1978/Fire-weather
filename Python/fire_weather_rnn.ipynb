{
 "cells": [
  {
   "cell_type": "markdown",
   "metadata": {},
   "source": [
    "# GOOGL stock 'Close' value prediction"
   ]
  },
  {
   "cell_type": "code",
   "execution_count": 43,
   "metadata": {},
   "outputs": [],
   "source": [
    "import numpy as np\n",
    "import matplotlib.pyplot as plt\n",
    "import pandas as pd\n",
    "from pandas import datetime\n",
    "import math, time\n",
    "import itertools\n",
    "from sklearn import preprocessing\n",
    "import datetime\n",
    "from operator import itemgetter\n",
    "from sklearn.metrics import mean_squared_error\n",
    "from math import sqrt\n",
    "from keras.models import Sequential\n",
    "from keras.layers.core import Dense, Dropout, Activation\n",
    "from keras.layers.recurrent import LSTM"
   ]
  },
  {
   "cell_type": "markdown",
   "metadata": {},
   "source": [
    "## Importing single location NARR-gridMET data"
   ]
  },
  {
   "cell_type": "code",
   "execution_count": 44,
   "metadata": {
    "scrolled": true
   },
   "outputs": [
    {
     "data": {
      "text/plain": [
       "'df head:'"
      ]
     },
     "metadata": {},
     "output_type": "display_data"
    },
    {
     "data": {
      "text/html": [
       "<div>\n",
       "<style scoped>\n",
       "    .dataframe tbody tr th:only-of-type {\n",
       "        vertical-align: middle;\n",
       "    }\n",
       "\n",
       "    .dataframe tbody tr th {\n",
       "        vertical-align: top;\n",
       "    }\n",
       "\n",
       "    .dataframe thead th {\n",
       "        text-align: right;\n",
       "    }\n",
       "</style>\n",
       "<table border=\"1\" class=\"dataframe\">\n",
       "  <thead>\n",
       "    <tr style=\"text-align: right;\">\n",
       "      <th></th>\n",
       "      <th>time</th>\n",
       "      <th>H500</th>\n",
       "      <th>H500 Grad X</th>\n",
       "      <th>H500 Grad Y</th>\n",
       "      <th>PMSL</th>\n",
       "      <th>PMSL Grad X</th>\n",
       "      <th>PMSL Grad Y</th>\n",
       "      <th>ERC</th>\n",
       "    </tr>\n",
       "  </thead>\n",
       "  <tbody>\n",
       "    <tr>\n",
       "      <td>0</td>\n",
       "      <td>1979-01-02</td>\n",
       "      <td>5715.97000</td>\n",
       "      <td>1.631845</td>\n",
       "      <td>-11.812575</td>\n",
       "      <td>102689.125</td>\n",
       "      <td>50.257525</td>\n",
       "      <td>84.694812</td>\n",
       "      <td>23.0</td>\n",
       "    </tr>\n",
       "    <tr>\n",
       "      <td>1</td>\n",
       "      <td>1979-01-03</td>\n",
       "      <td>5650.36625</td>\n",
       "      <td>8.283511</td>\n",
       "      <td>-4.332774</td>\n",
       "      <td>101987.375</td>\n",
       "      <td>3.994009</td>\n",
       "      <td>73.726234</td>\n",
       "      <td>25.0</td>\n",
       "    </tr>\n",
       "    <tr>\n",
       "      <td>2</td>\n",
       "      <td>1979-01-04</td>\n",
       "      <td>5596.66250</td>\n",
       "      <td>10.444422</td>\n",
       "      <td>-2.467009</td>\n",
       "      <td>101681.250</td>\n",
       "      <td>-18.707662</td>\n",
       "      <td>-4.352164</td>\n",
       "      <td>15.0</td>\n",
       "    </tr>\n",
       "    <tr>\n",
       "      <td>3</td>\n",
       "      <td>1979-01-05</td>\n",
       "      <td>5600.45250</td>\n",
       "      <td>2.961868</td>\n",
       "      <td>-6.659581</td>\n",
       "      <td>101705.625</td>\n",
       "      <td>106.575925</td>\n",
       "      <td>162.815328</td>\n",
       "      <td>26.0</td>\n",
       "    </tr>\n",
       "    <tr>\n",
       "      <td>4</td>\n",
       "      <td>1979-01-06</td>\n",
       "      <td>5585.27625</td>\n",
       "      <td>-0.860342</td>\n",
       "      <td>-5.186507</td>\n",
       "      <td>101381.375</td>\n",
       "      <td>40.390296</td>\n",
       "      <td>30.786914</td>\n",
       "      <td>28.0</td>\n",
       "    </tr>\n",
       "  </tbody>\n",
       "</table>\n",
       "</div>"
      ],
      "text/plain": [
       "         time        H500  H500 Grad X  H500 Grad Y        PMSL  PMSL Grad X  \\\n",
       "0  1979-01-02  5715.97000     1.631845   -11.812575  102689.125    50.257525   \n",
       "1  1979-01-03  5650.36625     8.283511    -4.332774  101987.375     3.994009   \n",
       "2  1979-01-04  5596.66250    10.444422    -2.467009  101681.250   -18.707662   \n",
       "3  1979-01-05  5600.45250     2.961868    -6.659581  101705.625   106.575925   \n",
       "4  1979-01-06  5585.27625    -0.860342    -5.186507  101381.375    40.390296   \n",
       "\n",
       "   PMSL Grad Y   ERC  \n",
       "0    84.694812  23.0  \n",
       "1    73.726234  25.0  \n",
       "2    -4.352164  15.0  \n",
       "3   162.815328  26.0  \n",
       "4    30.786914  28.0  "
      ]
     },
     "metadata": {},
     "output_type": "display_data"
    },
    {
     "data": {
      "text/plain": [
       "'df tail:'"
      ]
     },
     "metadata": {},
     "output_type": "display_data"
    },
    {
     "data": {
      "text/html": [
       "<div>\n",
       "<style scoped>\n",
       "    .dataframe tbody tr th:only-of-type {\n",
       "        vertical-align: middle;\n",
       "    }\n",
       "\n",
       "    .dataframe tbody tr th {\n",
       "        vertical-align: top;\n",
       "    }\n",
       "\n",
       "    .dataframe thead th {\n",
       "        text-align: right;\n",
       "    }\n",
       "</style>\n",
       "<table border=\"1\" class=\"dataframe\">\n",
       "  <thead>\n",
       "    <tr style=\"text-align: right;\">\n",
       "      <th></th>\n",
       "      <th>time</th>\n",
       "      <th>H500</th>\n",
       "      <th>H500 Grad X</th>\n",
       "      <th>H500 Grad Y</th>\n",
       "      <th>PMSL</th>\n",
       "      <th>PMSL Grad X</th>\n",
       "      <th>PMSL Grad Y</th>\n",
       "      <th>ERC</th>\n",
       "    </tr>\n",
       "  </thead>\n",
       "  <tbody>\n",
       "    <tr>\n",
       "      <td>1816</td>\n",
       "      <td>1983-12-27</td>\n",
       "      <td>5508.1800</td>\n",
       "      <td>-10.000355</td>\n",
       "      <td>-40.544150</td>\n",
       "      <td>101366.750</td>\n",
       "      <td>-53.391523</td>\n",
       "      <td>22.134313</td>\n",
       "      <td>0.0</td>\n",
       "    </tr>\n",
       "    <tr>\n",
       "      <td>1817</td>\n",
       "      <td>1983-12-28</td>\n",
       "      <td>5619.3700</td>\n",
       "      <td>-11.723684</td>\n",
       "      <td>-17.322113</td>\n",
       "      <td>102048.000</td>\n",
       "      <td>119.783963</td>\n",
       "      <td>102.634012</td>\n",
       "      <td>0.0</td>\n",
       "    </tr>\n",
       "    <tr>\n",
       "      <td>1818</td>\n",
       "      <td>1983-12-29</td>\n",
       "      <td>5695.6575</td>\n",
       "      <td>0.358575</td>\n",
       "      <td>-14.475804</td>\n",
       "      <td>101878.750</td>\n",
       "      <td>-21.613663</td>\n",
       "      <td>-87.943675</td>\n",
       "      <td>0.0</td>\n",
       "    </tr>\n",
       "    <tr>\n",
       "      <td>1819</td>\n",
       "      <td>1983-12-30</td>\n",
       "      <td>5641.4650</td>\n",
       "      <td>13.035607</td>\n",
       "      <td>-20.645963</td>\n",
       "      <td>101919.875</td>\n",
       "      <td>-21.588763</td>\n",
       "      <td>-118.073588</td>\n",
       "      <td>0.0</td>\n",
       "    </tr>\n",
       "    <tr>\n",
       "      <td>1820</td>\n",
       "      <td>1983-12-31</td>\n",
       "      <td>5610.7400</td>\n",
       "      <td>2.008021</td>\n",
       "      <td>-31.701650</td>\n",
       "      <td>102444.000</td>\n",
       "      <td>-71.758150</td>\n",
       "      <td>-15.401160</td>\n",
       "      <td>0.0</td>\n",
       "    </tr>\n",
       "  </tbody>\n",
       "</table>\n",
       "</div>"
      ],
      "text/plain": [
       "            time       H500  H500 Grad X  H500 Grad Y        PMSL  \\\n",
       "1816  1983-12-27  5508.1800   -10.000355   -40.544150  101366.750   \n",
       "1817  1983-12-28  5619.3700   -11.723684   -17.322113  102048.000   \n",
       "1818  1983-12-29  5695.6575     0.358575   -14.475804  101878.750   \n",
       "1819  1983-12-30  5641.4650    13.035607   -20.645963  101919.875   \n",
       "1820  1983-12-31  5610.7400     2.008021   -31.701650  102444.000   \n",
       "\n",
       "      PMSL Grad X  PMSL Grad Y  ERC  \n",
       "1816   -53.391523    22.134313  0.0  \n",
       "1817   119.783963   102.634012  0.0  \n",
       "1818   -21.613663   -87.943675  0.0  \n",
       "1819   -21.588763  -118.073588  0.0  \n",
       "1820   -71.758150   -15.401160  0.0  "
      ]
     },
     "metadata": {},
     "output_type": "display_data"
    }
   ],
   "source": [
    "# stock_name = 'GOOGL'\n",
    "# df = get_stock_data(stock_name,0)\n",
    "# df.tail()\n",
    "\n",
    "df = pd.read_csv('/home/dp/Documents/FWP/NARR_gridMET/csv/Training/Continuous/df_NARR_gridMET_Kalmiopsis_all_years.csv', header='infer')\n",
    "display('df head:', df.head(5))\n",
    "display('df tail:', df.tail(5))"
   ]
  },
  {
   "cell_type": "code",
   "execution_count": 45,
   "metadata": {},
   "outputs": [
    {
     "data": {
      "image/png": "[encoded data removed]",
      "text/plain": [
       "<Figure size 1296x288 with 4 Axes>"
      ]
     },
     "metadata": {
      "needs_background": "light"
     },
     "output_type": "display_data"
    }
   ],
   "source": [
    "# Plotting ERC and H500 X gradient\n",
    "fig, (ax1, ax2, ax3, ax4) = plt.subplots(1,4, figsize=(18,4))\n",
    "df.plot(x='time', y='H500 Grad X', ax=ax1, color='blue')\n",
    "df.plot(x='time', y='H500 Grad Y', ax=ax2, color='green')\n",
    "df.plot(x='time', y='H500', ax=ax3, color='cyan')\n",
    "df.plot(x='time', y='ERC', ax=ax4, color='red')\n",
    "plt.show()"
   ]
  },
  {
   "cell_type": "code",
   "execution_count": 46,
   "metadata": {
    "scrolled": true
   },
   "outputs": [
    {
     "data": {
      "text/plain": [
       "'df to train on:'"
      ]
     },
     "metadata": {},
     "output_type": "display_data"
    },
    {
     "data": {
      "text/html": [
       "<div>\n",
       "<style scoped>\n",
       "    .dataframe tbody tr th:only-of-type {\n",
       "        vertical-align: middle;\n",
       "    }\n",
       "\n",
       "    .dataframe tbody tr th {\n",
       "        vertical-align: top;\n",
       "    }\n",
       "\n",
       "    .dataframe thead th {\n",
       "        text-align: right;\n",
       "    }\n",
       "</style>\n",
       "<table border=\"1\" class=\"dataframe\">\n",
       "  <thead>\n",
       "    <tr style=\"text-align: right;\">\n",
       "      <th></th>\n",
       "      <th>H500</th>\n",
       "      <th>PMSL</th>\n",
       "      <th>ERC</th>\n",
       "    </tr>\n",
       "  </thead>\n",
       "  <tbody>\n",
       "    <tr>\n",
       "      <td>0</td>\n",
       "      <td>5715.97000</td>\n",
       "      <td>102689.125</td>\n",
       "      <td>23.0</td>\n",
       "    </tr>\n",
       "    <tr>\n",
       "      <td>1</td>\n",
       "      <td>5650.36625</td>\n",
       "      <td>101987.375</td>\n",
       "      <td>25.0</td>\n",
       "    </tr>\n",
       "    <tr>\n",
       "      <td>2</td>\n",
       "      <td>5596.66250</td>\n",
       "      <td>101681.250</td>\n",
       "      <td>15.0</td>\n",
       "    </tr>\n",
       "    <tr>\n",
       "      <td>3</td>\n",
       "      <td>5600.45250</td>\n",
       "      <td>101705.625</td>\n",
       "      <td>26.0</td>\n",
       "    </tr>\n",
       "    <tr>\n",
       "      <td>4</td>\n",
       "      <td>5585.27625</td>\n",
       "      <td>101381.375</td>\n",
       "      <td>28.0</td>\n",
       "    </tr>\n",
       "  </tbody>\n",
       "</table>\n",
       "</div>"
      ],
      "text/plain": [
       "         H500        PMSL   ERC\n",
       "0  5715.97000  102689.125  23.0\n",
       "1  5650.36625  101987.375  25.0\n",
       "2  5596.66250  101681.250  15.0\n",
       "3  5600.45250  101705.625  26.0\n",
       "4  5585.27625  101381.375  28.0"
      ]
     },
     "metadata": {},
     "output_type": "display_data"
    },
    {
     "data": {
      "text/plain": [
       "'Scaled data:'"
      ]
     },
     "metadata": {},
     "output_type": "display_data"
    },
    {
     "data": {
      "text/plain": [
       "array([[0.63343041, 0.88619543, 0.31944444],\n",
       "       [0.53718219, 0.7169507 , 0.34722222],\n",
       "       [0.45839263, 0.64312093, 0.20833333],\n",
       "       [0.46395299, 0.64899957, 0.36111111],\n",
       "       [0.4416877 , 0.5707985 , 0.38888889],\n",
       "       [0.44101282, 0.62551514, 0.19444444],\n",
       "       [0.42792433, 0.59482559, 0.15277778],\n",
       "       [0.3955176 , 0.64079962, 0.125     ],\n",
       "       [0.5817733 , 0.66880609, 0.06944444],\n",
       "       [0.50399789, 0.46178729, 0.02777778]])"
      ]
     },
     "metadata": {},
     "output_type": "display_data"
    },
    {
     "data": {
      "text/plain": [
       "'Scaled Open price:'"
      ]
     },
     "metadata": {},
     "output_type": "display_data"
    },
    {
     "data": {
      "text/plain": [
       "array([0.63343041, 0.53718219, 0.45839263, ..., 0.60362964, 0.52412303,\n",
       "       0.47904594])"
      ]
     },
     "metadata": {},
     "output_type": "display_data"
    },
    {
     "data": {
      "image/png": "[encoded data removed]",
      "text/plain": [
       "<Figure size 576x216 with 2 Axes>"
      ]
     },
     "metadata": {
      "needs_background": "light"
     },
     "output_type": "display_data"
    }
   ],
   "source": [
    "# Specify columns to train on\n",
    "df = df.loc[:, ['H500','PMSL','ERC']]\n",
    "display('df to train on:', df.head(5))\n",
    "\n",
    "# Scaling:\n",
    "scaler = preprocessing.MinMaxScaler()\n",
    "data = df.values\n",
    "data = scaler.fit_transform(data)\n",
    "display('Scaled data:', data[:10])\n",
    "display('Scaled Open price:', data[:, 0])\n",
    "\n",
    "# Plotting hist of scaled data:\n",
    "fig, (ax1, ax2) = plt.subplots(1,2, figsize=(8,3))\n",
    "df.hist('H500', bins=20, ax=ax1)\n",
    "ax2.hist(data[:,0], bins=20)\n",
    "ax1.set_title('Unscaled H500')\n",
    "ax2.set_title('Scaled H500')\n",
    "plt.show()"
   ]
  },
  {
   "cell_type": "markdown",
   "metadata": {},
   "source": [
    "## Updated load_data function from lstm.py, configured to accept any amount of features.\n",
    "## It is set to calculate the last feature as a result."
   ]
  },
  {
   "cell_type": "code",
   "execution_count": 47,
   "metadata": {},
   "outputs": [],
   "source": [
    "def load_data(stock, seq_len):\n",
    "    amount_of_features = len(stock.columns)\n",
    "\n",
    "    sequence_length = seq_len + 1\n",
    "    result = []\n",
    "    for index in range(len(data) - sequence_length):\n",
    "        result.append(data[index: index + sequence_length])\n",
    "\n",
    "    result = np.array(result)\n",
    "    row = round(0.9 * result.shape[0])\n",
    "    train = result[:int(row), :]\n",
    "    x_train = train[:, :-1]\n",
    "    y_train = train[:, -1][:,-1]\n",
    "    x_test = result[int(row):, :-1]\n",
    "    y_test = result[int(row):, -1][:,-1]\n",
    "\n",
    "    x_train = np.reshape(x_train, (x_train.shape[0], x_train.shape[1], amount_of_features))\n",
    "    x_test = np.reshape(x_test, (x_test.shape[0], x_test.shape[1], amount_of_features))  \n",
    "\n",
    "    return [x_train, y_train, x_test, y_test]\n"
   ]
  },
  {
   "cell_type": "markdown",
   "metadata": {},
   "source": [
    "## Building model functions"
   ]
  },
  {
   "cell_type": "code",
   "execution_count": 48,
   "metadata": {},
   "outputs": [],
   "source": [
    "def build_model(layers):\n",
    "    model = Sequential()\n",
    "\n",
    "    model.add(LSTM(\n",
    "        input_dim=layers[0],\n",
    "        output_dim=layers[1],\n",
    "        return_sequences=True))\n",
    "    model.add(Dropout(0.2))\n",
    "\n",
    "    model.add(LSTM(\n",
    "        layers[2],\n",
    "        return_sequences=False))\n",
    "    model.add(Dropout(0.2))\n",
    "\n",
    "    model.add(Dense(\n",
    "        output_dim=layers[2]))\n",
    "    model.add(Activation(\"linear\"))\n",
    "\n",
    "    start = time.time()\n",
    "    model.compile(loss=\"mse\", optimizer=\"rmsprop\",metrics=['accuracy'])\n",
    "    print(\"Compilation Time : \", time.time() - start)\n",
    "    return model\n",
    "\n",
    "def build_model2(layers):\n",
    "        d = 0.2\n",
    "        model = Sequential()\n",
    "        model.add(LSTM(128, input_shape=(layers[1], layers[0]), return_sequences=True))\n",
    "        model.add(Dropout(d))\n",
    "        model.add(LSTM(64, input_shape=(layers[1], layers[0]), return_sequences=False))\n",
    "        model.add(Dropout(d))\n",
    "        model.add(Dense(16, activation=\"relu\", kernel_initializer=\"uniform\")) \n",
    "        model.add(Dense(1, activation=\"relu\", kernel_initializer=\"uniform\"))\n",
    "        model.compile(loss='mse',optimizer='adam',metrics=['accuracy'])\n",
    "        return model"
   ]
  },
  {
   "cell_type": "markdown",
   "metadata": {},
   "source": [
    "## Setting X and Y for training and testing"
   ]
  },
  {
   "cell_type": "code",
   "execution_count": 49,
   "metadata": {
    "scrolled": true
   },
   "outputs": [
    {
     "name": "stdout",
     "output_type": "stream",
     "text": [
      "X_train (1625, 14, 3)\n",
      "X_train[:3,:]:\n",
      " [[[0.63343041 0.88619543 0.31944444]\n",
      "  [0.53718219 0.7169507  0.34722222]\n",
      "  [0.45839263 0.64312093 0.20833333]\n",
      "  [0.46395299 0.64899957 0.36111111]\n",
      "  [0.4416877  0.5707985  0.38888889]\n",
      "  [0.44101282 0.62551514 0.19444444]\n",
      "  [0.42792433 0.59482559 0.15277778]\n",
      "  [0.3955176  0.64079962 0.125     ]\n",
      "  [0.5817733  0.66880609 0.06944444]\n",
      "  [0.50399789 0.46178729 0.02777778]\n",
      "  [0.32889042 0.59693587 0.05555556]\n",
      "  [0.44624675 0.79693044 0.09722222]\n",
      "  [0.26450426 0.41032652 0.06944444]\n",
      "  [0.15005098 0.30456816 0.06944444]]\n",
      "\n",
      " [[0.53718219 0.7169507  0.34722222]\n",
      "  [0.45839263 0.64312093 0.20833333]\n",
      "  [0.46395299 0.64899957 0.36111111]\n",
      "  [0.4416877  0.5707985  0.38888889]\n",
      "  [0.44101282 0.62551514 0.19444444]\n",
      "  [0.42792433 0.59482559 0.15277778]\n",
      "  [0.3955176  0.64079962 0.125     ]\n",
      "  [0.5817733  0.66880609 0.06944444]\n",
      "  [0.50399789 0.46178729 0.02777778]\n",
      "  [0.32889042 0.59693587 0.05555556]\n",
      "  [0.44624675 0.79693044 0.09722222]\n",
      "  [0.26450426 0.41032652 0.06944444]\n",
      "  [0.15005098 0.30456816 0.06944444]\n",
      "  [0.33509081 0.59524764 0.22222222]]\n",
      "\n",
      " [[0.45839263 0.64312093 0.20833333]\n",
      "  [0.46395299 0.64899957 0.36111111]\n",
      "  [0.4416877  0.5707985  0.38888889]\n",
      "  [0.44101282 0.62551514 0.19444444]\n",
      "  [0.42792433 0.59482559 0.15277778]\n",
      "  [0.3955176  0.64079962 0.125     ]\n",
      "  [0.5817733  0.66880609 0.06944444]\n",
      "  [0.50399789 0.46178729 0.02777778]\n",
      "  [0.32889042 0.59693587 0.05555556]\n",
      "  [0.44624675 0.79693044 0.09722222]\n",
      "  [0.26450426 0.41032652 0.06944444]\n",
      "  [0.15005098 0.30456816 0.06944444]\n",
      "  [0.33509081 0.59524764 0.22222222]\n",
      "  [0.43085489 0.62470117 0.26388889]]]\n",
      "y_train (1625,)\n",
      "y_train[:3]:\n",
      " [0.22222222 0.26388889 0.29166667]\n",
      "X_test (181, 14, 3)\n",
      "y_test (181,)\n"
     ]
    }
   ],
   "source": [
    "window = 14\n",
    "X_train, y_train, X_test, y_test = load_data(df[::-1], window)\n",
    "print(\"X_train\", X_train.shape)\n",
    "print('X_train[:3,:]:\\n', X_train[:3,:])\n",
    "print(\"y_train\", y_train.shape)\n",
    "print('y_train[:3]:\\n', y_train[:3])\n",
    "print(\"X_test\", X_test.shape)\n",
    "print(\"y_test\", y_test.shape)"
   ]
  },
  {
   "cell_type": "code",
   "execution_count": null,
   "metadata": {},
   "outputs": [],
   "source": []
  },
  {
   "cell_type": "markdown",
   "metadata": {},
   "source": [
    "## Loading the model sequence structure"
   ]
  },
  {
   "cell_type": "code",
   "execution_count": 50,
   "metadata": {},
   "outputs": [],
   "source": [
    "# model = build_model([3,lag,1])\n",
    "model = build_model2([3,window,1])"
   ]
  },
  {
   "cell_type": "markdown",
   "metadata": {},
   "source": [
    "## Executing the model & RMS/RMSE results"
   ]
  },
  {
   "cell_type": "code",
   "execution_count": 51,
   "metadata": {},
   "outputs": [
    {
     "data": {
      "text/plain": [
       "<keras.callbacks.History at 0x7fdc41bf7320>"
      ]
     },
     "execution_count": 51,
     "metadata": {},
     "output_type": "execute_result"
    }
   ],
   "source": [
    "t0 = time.time()\n",
    "\n",
    "model.fit(\n",
    "    X_train,\n",
    "    y_train,\n",
    "    batch_size=512,\n",
    "    epochs=500,\n",
    "    validation_split=0.1,\n",
    "    verbose=0)\n",
    "\n",
    "t1 = time.time() - t0\n",
    "print('Fit time:', t1)"
   ]
  },
  {
   "cell_type": "code",
   "execution_count": 52,
   "metadata": {},
   "outputs": [
    {
     "name": "stdout",
     "output_type": "stream",
     "text": [
      "Train Score: 0.00 MSE (0.07 RMSE)\n",
      "Test Score: 0.01 MSE (0.07 RMSE)\n"
     ]
    }
   ],
   "source": [
    "trainScore = model.evaluate(X_train, y_train, verbose=0)\n",
    "print('Train Score: %.2f MSE (%.2f RMSE)' % (trainScore[0], math.sqrt(trainScore[0])))\n",
    "\n",
    "testScore = model.evaluate(X_test, y_test, verbose=0)\n",
    "print('Test Score: %.2f MSE (%.2f RMSE)' % (testScore[0], math.sqrt(testScore[0])))"
   ]
  },
  {
   "cell_type": "code",
   "execution_count": 53,
   "metadata": {},
   "outputs": [
    {
     "name": "stderr",
     "output_type": "stream",
     "text": [
      "/home/dp/anaconda3/envs/fwp_venv/lib/python3.7/site-packages/ipykernel_launcher.py:7: RuntimeWarning: invalid value encountered in double_scalars\n",
      "  import sys\n"
     ]
    }
   ],
   "source": [
    "# print(X_test[-1])\n",
    "diff=[]\n",
    "ratio=[]\n",
    "p = model.predict(X_test)\n",
    "for u in range(len(y_test)):\n",
    "    pr = p[u][0]\n",
    "    ratio.append((y_test[u]/pr)-1)\n",
    "    diff.append(abs(y_test[u]- pr))\n",
    "    #print(u, y_test[u], pr, (y_test[u]/pr)-1, abs(y_test[u]- pr))"
   ]
  },
  {
   "cell_type": "markdown",
   "metadata": {},
   "source": [
    "## Predictions vs Real results"
   ]
  },
  {
   "cell_type": "code",
   "execution_count": 54,
   "metadata": {},
   "outputs": [
    {
     "data": {
      "image/png": "[encoded data removed]",
      "text/plain": [
       "<Figure size 432x288 with 1 Axes>"
      ]
     },
     "metadata": {
      "needs_background": "light"
     },
     "output_type": "display_data"
    }
   ],
   "source": [
    "import matplotlib.pyplot as plt2\n",
    "\n",
    "plt2.plot(p,color='red', label='prediction')\n",
    "plt2.plot(y_test,color='blue', label='y_test')\n",
    "plt2.legend(loc='upper left')\n",
    "plt2.show()"
   ]
  },
  {
   "cell_type": "code",
   "execution_count": null,
   "metadata": {},
   "outputs": [],
   "source": []
  }
 ],
 "metadata": {
  "@webio": {
   "lastCommId": null,
   "lastKernelId": null
  },
  "anaconda-cloud": {},
  "kernelspec": {
   "display_name": "Python [conda env:fwp_venv] *",
   "language": "python",
   "name": "conda-env-fwp_venv-py"
  },
  "language_info": {
   "codemirror_mode": {
    "name": "ipython",
    "version": 3
   },
   "file_extension": ".py",
   "mimetype": "text/x-python",
   "name": "python",
   "nbconvert_exporter": "python",
   "pygments_lexer": "ipython3",
   "version": "3.7.2"
  }
 },
 "nbformat": 4,
 "nbformat_minor": 1
}
